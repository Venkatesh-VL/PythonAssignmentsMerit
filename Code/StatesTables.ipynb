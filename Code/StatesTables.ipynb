{
 "cells": [
  {
   "cell_type": "code",
   "execution_count": 1,
   "id": "26799cd1",
   "metadata": {},
   "outputs": [],
   "source": [
    "import selenium\n",
    "from selenium import webdriver\n",
    "import os\n",
    "import pandas as pd\n",
    "import time"
   ]
  },
  {
   "cell_type": "code",
   "execution_count": 2,
   "id": "24dde5d3",
   "metadata": {},
   "outputs": [],
   "source": [
    "os.chdir(r\"C:\\Users\\merit\\Downloads\\chrd\")\n"
   ]
  },
  {
   "cell_type": "code",
   "execution_count": 9,
   "id": "8be3e3f1",
   "metadata": {},
   "outputs": [],
   "source": [
    "driverPath = r\"C:\\Users\\krthg\\OneDrive\\Documents\\Merit\\PythonAssignments\\Webdriver\\chromedriver.exe\"\n",
    "driver = webdriver.Chrome(executable_path=driverPath)\n",
    "driver.get(\"https://ai.fmcsa.dot.gov/hhg/Search.asp?ads=a\")\n",
    "states = driver.find_elements_by_xpath(\"//tbody/tr[1]/td[2]/select[1]//following::option\")\n",
    "USStates = []\n",
    "writer = pd.ExcelWriter(r'C:\\Users\\krthg\\OneDrive\\Documents\\Merit\\PythonAssignments\\\\States.xlsx', engine='xlsxwriter')\n",
    "\n",
    "for i in states:\n",
    "    USStates.append(i.text)\n",
    "\n",
    "for i in USStates[1:]:\n",
    "    driver.find_element_by_name(\"state\").click()\n",
    "    driver.find_element_by_name(\"state\").send_keys(i)\n",
    "    driver.find_element_by_name(\"state\").click()\n",
    "    driver.find_element_by_name(\"Submit\").click()\n",
    "    df = pd.DataFrame()\n",
    "    output = []\n",
    "    Companies = driver.find_elements_by_xpath('//tr[contains(@scope,\"row\")]')\n",
    "    for j in Companies:\n",
    "        output.append(j.text.split('  '))\n",
    "    driver.back()\n",
    "    df = pd.DataFrame(output,columns = ['Company Name','Headquarters Location', 'Company Type', 'Fleet Size'])\n",
    "    df.to_excel(writer,sheet_name = i,index = False)\n",
    "writer.save()\n",
    "writer.close()\n",
    "driver.close()"
   ]
  },
  {
   "cell_type": "code",
   "execution_count": null,
   "id": "2160e4c6",
   "metadata": {},
   "outputs": [],
   "source": []
  },
  {
   "cell_type": "code",
   "execution_count": null,
   "id": "b2de0dc2",
   "metadata": {},
   "outputs": [],
   "source": []
  },
  {
   "cell_type": "code",
   "execution_count": null,
   "id": "bf093121",
   "metadata": {},
   "outputs": [],
   "source": [
    "\n"
   ]
  },
  {
   "cell_type": "code",
   "execution_count": null,
   "id": "5ea64114",
   "metadata": {},
   "outputs": [],
   "source": []
  },
  {
   "cell_type": "code",
   "execution_count": null,
   "id": "b1e16168",
   "metadata": {},
   "outputs": [],
   "source": []
  },
  {
   "cell_type": "code",
   "execution_count": null,
   "id": "09d4b40c",
   "metadata": {},
   "outputs": [],
   "source": []
  },
  {
   "cell_type": "code",
   "execution_count": 55,
   "id": "448ea5bd",
   "metadata": {},
   "outputs": [],
   "source": []
  },
  {
   "cell_type": "code",
   "execution_count": null,
   "id": "888948de",
   "metadata": {},
   "outputs": [],
   "source": []
  },
  {
   "cell_type": "code",
   "execution_count": null,
   "id": "056f4fb9",
   "metadata": {},
   "outputs": [],
   "source": []
  },
  {
   "cell_type": "code",
   "execution_count": null,
   "id": "ba76135c",
   "metadata": {},
   "outputs": [],
   "source": []
  },
  {
   "cell_type": "code",
   "execution_count": null,
   "id": "77471658",
   "metadata": {},
   "outputs": [],
   "source": []
  },
  {
   "cell_type": "code",
   "execution_count": null,
   "id": "b19f6ac4",
   "metadata": {},
   "outputs": [],
   "source": []
  },
  {
   "cell_type": "code",
   "execution_count": null,
   "id": "60e04794",
   "metadata": {},
   "outputs": [],
   "source": []
  },
  {
   "cell_type": "code",
   "execution_count": null,
   "id": "e0829897",
   "metadata": {},
   "outputs": [],
   "source": []
  },
  {
   "cell_type": "code",
   "execution_count": null,
   "id": "364e6d31",
   "metadata": {},
   "outputs": [],
   "source": []
  }
 ],
 "metadata": {
  "kernelspec": {
   "display_name": "Python 3 (ipykernel)",
   "language": "python",
   "name": "python3"
  },
  "language_info": {
   "codemirror_mode": {
    "name": "ipython",
    "version": 3
   },
   "file_extension": ".py",
   "mimetype": "text/x-python",
   "name": "python",
   "nbconvert_exporter": "python",
   "pygments_lexer": "ipython3",
   "version": "3.9.6"
  }
 },
 "nbformat": 4,
 "nbformat_minor": 5
}
